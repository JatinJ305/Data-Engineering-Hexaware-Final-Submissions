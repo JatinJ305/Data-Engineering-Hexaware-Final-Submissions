{
 "cells": [
  {
   "cell_type": "code",
   "execution_count": 0,
   "metadata": {
    "application/vnd.databricks.v1+cell": {
     "cellMetadata": {
      "byteLimit": 2048000,
      "rowLimit": 10000
     },
     "inputWidgets": {},
     "nuid": "9e1807b2-003c-47b2-9e26-35a250132e12",
     "showTitle": false,
     "tableResultSettingsMap": {},
     "title": ""
    }
   },
   "outputs": [
    {
     "output_type": "stream",
     "name": "stdout",
     "output_type": "stream",
     "text": [
      "+---+-------+---+\n| id|   name|age|\n+---+-------+---+\n|  1|  Alice| 25|\n|  2|    Bob| 30|\n|  3|Charlie| 35|\n+---+-------+---+\n\n"
     ]
    }
   ],
   "source": [
    "from pyspark.sql import SparkSession\n",
    "from pyspark.sql import Row\n",
    "\n",
    "# Initialize Spark session\n",
    "spark = SparkSession.builder.appName(\"DataWriteExample\").getOrCreate()\n",
    "\n",
    "# Sample DataFrame\n",
    "data = [Row(id=1, name=\"Alice\", age=25), Row(id=2, name=\"Bob\", age=30), Row(id=3, name=\"Charlie\", age=35)]\n",
    "df = spark.createDataFrame(data)\n",
    "\n",
    "# Show DataFrame\n",
    "df.show()\n"
   ]
  },
  {
   "cell_type": "code",
   "execution_count": 0,
   "metadata": {
    "application/vnd.databricks.v1+cell": {
     "cellMetadata": {
      "byteLimit": 2048000,
      "rowLimit": 10000
     },
     "inputWidgets": {},
     "nuid": "205c76ad-1d16-477b-8058-2fdf3fc050e9",
     "showTitle": false,
     "tableResultSettingsMap": {},
     "title": ""
    }
   },
   "outputs": [],
   "source": [
    "#Write Data to CSV\n",
    "df.write.option(\"header\", \"true\").csv(\"/FileStore/tables/sample_data_csv\", mode=\"overwrite\")\n"
   ]
  },
  {
   "cell_type": "code",
   "execution_count": 0,
   "metadata": {
    "application/vnd.databricks.v1+cell": {
     "cellMetadata": {
      "byteLimit": 2048000,
      "rowLimit": 10000
     },
     "inputWidgets": {},
     "nuid": "3258c254-e520-45de-91d6-547e20ede487",
     "showTitle": false,
     "tableResultSettingsMap": {},
     "title": ""
    }
   },
   "outputs": [],
   "source": [
    "#Write Data to JSON\n",
    "df.write.json(\"/FileStore/tables/sample_data_json\", mode=\"overwrite\")\n"
   ]
  },
  {
   "cell_type": "code",
   "execution_count": 0,
   "metadata": {
    "application/vnd.databricks.v1+cell": {
     "cellMetadata": {
      "byteLimit": 2048000,
      "rowLimit": 10000
     },
     "inputWidgets": {},
     "nuid": "82d02ea8-46fc-416e-9e26-94bec7b7e164",
     "showTitle": false,
     "tableResultSettingsMap": {},
     "title": ""
    }
   },
   "outputs": [],
   "source": [
    "#Write Data to Parquet\n",
    "df.write.parquet(\"/FileStore/tables/sample_data_parquet\", mode=\"overwrite\")\n"
   ]
  },
  {
   "cell_type": "code",
   "execution_count": 0,
   "metadata": {
    "application/vnd.databricks.v1+cell": {
     "cellMetadata": {
      "byteLimit": 2048000,
      "rowLimit": 10000
     },
     "inputWidgets": {},
     "nuid": "6e1ac182-13a2-4950-a060-7e181f223db7",
     "showTitle": false,
     "tableResultSettingsMap": {},
     "title": ""
    }
   },
   "outputs": [],
   "source": [
    "#Write Data to Delta Table\n",
    "df.write.format(\"delta\").save(\"/FileStore/tables/newsample_data_delta\")\n"
   ]
  },
  {
   "cell_type": "code",
   "execution_count": 0,
   "metadata": {
    "application/vnd.databricks.v1+cell": {
     "cellMetadata": {
      "byteLimit": 2048000,
      "rowLimit": 10000
     },
     "inputWidgets": {},
     "nuid": "c6a04bdc-a700-48b8-8b0f-d506efed2526",
     "showTitle": false,
     "tableResultSettingsMap": {},
     "title": ""
    }
   },
   "outputs": [
    {
     "output_type": "execute_result",
     "data": {
      "text/plain": [
       "[FileInfo(path='dbfs:/FileStore/tables/loan.csv', name='loan.csv', size=43967, modificationTime=1732796327000),\n",
       " FileInfo(path='dbfs:/FileStore/tables/newsample_data_delta/', name='newsample_data_delta/', size=0, modificationTime=1732800124000),\n",
       " FileInfo(path='dbfs:/FileStore/tables/sample_data_csv/', name='sample_data_csv/', size=0, modificationTime=1732794820000),\n",
       " FileInfo(path='dbfs:/FileStore/tables/sample_data_delta/', name='sample_data_delta/', size=0, modificationTime=1732794863000),\n",
       " FileInfo(path='dbfs:/FileStore/tables/sample_data_json/', name='sample_data_json/', size=0, modificationTime=1732794835000),\n",
       " FileInfo(path='dbfs:/FileStore/tables/sample_data_parquet/', name='sample_data_parquet/', size=0, modificationTime=1732794847000)]"
      ]
     },
     "execution_count": 7,
     "metadata": {},
     "output_type": "execute_result"
    }
   ],
   "source": [
    "dbutils.fs.ls(\"/FileStore/tables/\")\n"
   ]
  },
  {
   "cell_type": "code",
   "execution_count": 0,
   "metadata": {
    "application/vnd.databricks.v1+cell": {
     "cellMetadata": {
      "byteLimit": 2048000,
      "rowLimit": 10000
     },
     "inputWidgets": {},
     "nuid": "1dbeaef5-d8bd-4e97-9cb0-195086dc423c",
     "showTitle": false,
     "tableResultSettingsMap": {},
     "title": ""
    }
   },
   "outputs": [
    {
     "output_type": "stream",
     "name": "stdout",
     "output_type": "stream",
     "text": [
      "+---+-------+---+\n| id|   name|age|\n+---+-------+---+\n|  3|Charlie| 35|\n|  1|  Alice| 25|\n|  2|    Bob| 30|\n+---+-------+---+\n\nroot\n |-- id: integer (nullable = true)\n |-- name: string (nullable = true)\n |-- age: integer (nullable = true)\n\n+---+-------+---+\n| id|   name|age|\n+---+-------+---+\n|  3|Charlie| 35|\n|  1|  Alice| 25|\n|  2|    Bob| 30|\n+---+-------+---+\n\nRow count: 3\nColumn count: 3\n+-------+---+-------+----+\n|summary| id|   name| age|\n+-------+---+-------+----+\n|  count|  3|      3|   3|\n|   mean|2.0|   NULL|30.0|\n| stddev|1.0|   NULL| 5.0|\n|    min|  1|  Alice|  25|\n|    max|  3|Charlie|  35|\n+-------+---+-------+----+\n\n+---+----+---+\n| id|name|age|\n+---+----+---+\n|  0|   0|  0|\n+---+----+---+\n\n"
     ]
    }
   ],
   "source": [
    "#Exploratory Data Analysis (EDA) in Databricks\n",
    "file_path = \"/FileStore/tables/sample_data_csv\"\n",
    "df = spark.read.option(\"header\", \"true\").csv(file_path, inferSchema=True)\n",
    "df.show()\n",
    "\n",
    "df.printSchema()\n",
    "df.show(5)\n",
    "\n",
    "print(f\"Row count: {df.count()}\")\n",
    "print(f\"Column count: {len(df.columns)}\")\n",
    "\n",
    "df.describe().show()\n",
    "\n",
    "from pyspark.sql.functions import col, isnan, when, count\n",
    "\n",
    "df.select([count(when(col(c).isNull(), c)).alias(c) for c in df.columns]).show()\n",
    "\n"
   ]
  },
  {
   "cell_type": "code",
   "execution_count": 0,
   "metadata": {
    "application/vnd.databricks.v1+cell": {
     "cellMetadata": {},
     "inputWidgets": {},
     "nuid": "0f43b1e2-59f2-4650-9e49-39cd4276d113",
     "showTitle": false,
     "tableResultSettingsMap": {},
     "title": ""
    }
   },
   "outputs": [],
   "source": []
  }
 ],
 "metadata": {
  "application/vnd.databricks.v1+notebook": {
   "dashboards": [],
   "environmentMetadata": {
    "base_environment": "",
    "client": "1"
   },
   "language": "python",
   "notebookMetadata": {
    "pythonIndentUnit": 4
   },
   "notebookName": "EDA HandsOn",
   "widgets": {}
  },
  "language_info": {
   "name": "python"
  }
 },
 "nbformat": 4,
 "nbformat_minor": 0
}