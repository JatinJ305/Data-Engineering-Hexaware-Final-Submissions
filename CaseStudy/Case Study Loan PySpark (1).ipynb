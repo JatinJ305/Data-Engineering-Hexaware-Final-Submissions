{
 "cells": [
  {
   "cell_type": "code",
   "execution_count": 0,
   "metadata": {
    "application/vnd.databricks.v1+cell": {
     "cellMetadata": {
      "byteLimit": 2048000,
      "rowLimit": 10000
     },
     "inputWidgets": {},
     "nuid": "5e34ea96-5f13-4e8d-a5a7-684dab4ee8d9",
     "showTitle": false,
     "tableResultSettingsMap": {},
     "title": ""
    }
   },
   "outputs": [
    {
     "output_type": "stream",
     "name": "stdout",
     "output_type": "stream",
     "text": [
      "root\n |-- Customer_ID: string (nullable = true)\n |-- Age: integer (nullable = true)\n |-- Gender: string (nullable = true)\n |-- Occupation: string (nullable = true)\n |-- Marital Status: string (nullable = true)\n |-- Family Size: integer (nullable = true)\n |-- Income: integer (nullable = true)\n |-- Expenditure: integer (nullable = true)\n |-- Use Frequency: integer (nullable = true)\n |-- Loan Category: string (nullable = true)\n |-- Loan Amount: string (nullable = true)\n |-- Overdue: integer (nullable = true)\n |--  Debt Record: string (nullable = true)\n |--  Returned Cheque: integer (nullable = true)\n |--  Dishonour of Bill: integer (nullable = true)\n\n+-----------+---+------+------------+--------------+-----------+------+-----------+-------------+-------------+-----------+-------+------------+----------------+------------------+\n|Customer_ID|Age|Gender|  Occupation|Marital Status|Family Size|Income|Expenditure|Use Frequency|Loan Category|Loan Amount|Overdue| Debt Record| Returned Cheque| Dishonour of Bill|\n+-----------+---+------+------------+--------------+-----------+------+-----------+-------------+-------------+-----------+-------+------------+----------------+------------------+\n|    IB14001| 30|  MALE|BANK MANAGER|        SINGLE|          4| 50000|      22199|            6|      HOUSING| 10,00,000 |      5|      42,898|               6|                 9|\n|    IB14008| 44|  MALE|   PROFESSOR|       MARRIED|          6| 51000|      19999|            4|     SHOPPING|     50,000|      3|      33,999|               1|                 5|\n|    IB14012| 30|FEMALE|     DENTIST|        SINGLE|          3| 58450|      27675|            5|   TRAVELLING|     75,000|      6|      20,876|               3|                 1|\n|    IB14018| 29|  MALE|     TEACHER|       MARRIED|          5| 45767|      12787|            3|    GOLD LOAN|  6,00,000 |      7|      11,000|               0|                 4|\n|    IB14022| 34|  MALE|      POLICE|        SINGLE|          4| 43521|      11999|            3|   AUTOMOBILE|  2,00,000 |      2|      43,898|               1|                 2|\n+-----------+---+------+------------+--------------+-----------+------+-----------+-------------+-------------+-----------+-------+------------+----------------+------------------+\nonly showing top 5 rows\n\n"
     ]
    }
   ],
   "source": [
    "# Import necessary libraries\n",
    "from pyspark.sql import SparkSession\n",
    "from pyspark.sql.functions import col, count, lit\n",
    "\n",
    "# Initialize Spark session\n",
    "spark = SparkSession.builder.appName(\"LoanDataAnalysis\").getOrCreate()\n",
    "\n",
    "# Load the CSV file\n",
    "file_path = \"/FileStore/tables/Loan/loan.csv\"  # Replace with your actual file path\n",
    "loan_df = spark.read.option(\"header\", \"true\").csv(file_path, inferSchema=True)\n",
    "\n",
    "# Display the schema and a sample of the data\n",
    "loan_df.printSchema()\n",
    "loan_df.show(5)\n"
   ]
  },
  {
   "cell_type": "code",
   "execution_count": 0,
   "metadata": {
    "application/vnd.databricks.v1+cell": {
     "cellMetadata": {
      "byteLimit": 2048000,
      "rowLimit": 10000
     },
     "inputWidgets": {},
     "nuid": "34219471-f428-4e8e-b0fc-91453f4a1d5f",
     "showTitle": false,
     "tableResultSettingsMap": {},
     "title": ""
    }
   },
   "outputs": [
    {
     "output_type": "stream",
     "name": "stdout",
     "output_type": "stream",
     "text": [
      "+------------------+-----+\n|     Loan Category|count|\n+------------------+-----+\n|           HOUSING|   67|\n|        TRAVELLING|   53|\n|       BOOK STORES|    7|\n|       AGRICULTURE|   12|\n|         GOLD LOAN|   77|\n|  EDUCATIONAL LOAN|   20|\n|        AUTOMOBILE|   60|\n|          BUSINESS|   24|\n|COMPUTER SOFTWARES|   35|\n|           DINNING|   14|\n|          SHOPPING|   35|\n|       RESTAURANTS|   41|\n|       ELECTRONICS|   14|\n|          BUILDING|    7|\n|        RESTAURANT|   20|\n|   HOME APPLIANCES|   14|\n+------------------+-----+\n\n"
     ]
    }
   ],
   "source": [
    "#Number of loans in each category\n",
    "loan_category_count = loan_df.groupBy(\"Loan Category\").count()\n",
    "loan_category_count.show()\n"
   ]
  },
  {
   "cell_type": "code",
   "execution_count": 0,
   "metadata": {
    "application/vnd.databricks.v1+cell": {
     "cellMetadata": {
      "byteLimit": 2048000,
      "rowLimit": 10000
     },
     "inputWidgets": {},
     "nuid": "4ceebcc3-1add-45e3-b2e9-0e45ec3d4714",
     "showTitle": false,
     "tableResultSettingsMap": {},
     "title": ""
    }
   },
   "outputs": [
    {
     "output_type": "stream",
     "name": "stdout",
     "output_type": "stream",
     "text": [
      "Number of people who have taken more than 1 lakh loan: 0\n"
     ]
    }
   ],
   "source": [
    "#Number of people who have taken more than 1 lakh loan\n",
    "high_loan_count = loan_df.filter(col(\"Loan Amount\") > 100000).count()\n",
    "print(f\"Number of people who have taken more than 1 lakh loan: {high_loan_count}\")\n",
    "\n"
   ]
  },
  {
   "cell_type": "code",
   "execution_count": 0,
   "metadata": {
    "application/vnd.databricks.v1+cell": {
     "cellMetadata": {
      "byteLimit": 2048000,
      "rowLimit": 10000
     },
     "inputWidgets": {},
     "nuid": "548c6cc2-f6f1-42fc-8e8b-5967da969012",
     "showTitle": false,
     "tableResultSettingsMap": {},
     "title": ""
    }
   },
   "outputs": [
    {
     "output_type": "stream",
     "name": "stdout",
     "output_type": "stream",
     "text": [
      "Number of people with income greater than 60,000 rupees: 198\n"
     ]
    }
   ],
   "source": [
    "#Number of people with income greater than 60,000 rupees\n",
    "high_income_count = loan_df.filter(col(\"Income\") > 60000).count()\n",
    "print(f\"Number of people with income greater than 60,000 rupees: {high_income_count}\")\n"
   ]
  },
  {
   "cell_type": "code",
   "execution_count": 0,
   "metadata": {
    "application/vnd.databricks.v1+cell": {
     "cellMetadata": {
      "byteLimit": 2048000,
      "rowLimit": 10000
     },
     "inputWidgets": {},
     "nuid": "3e6f09ad-c496-44fd-9765-bd2c160203c5",
     "showTitle": false,
     "tableResultSettingsMap": {},
     "title": ""
    }
   },
   "outputs": [
    {
     "output_type": "stream",
     "name": "stdout",
     "output_type": "stream",
     "text": [
      "Number of people with 2 or more returned cheques and income less than 50,000: 137\n"
     ]
    }
   ],
   "source": [
    "#Number of people with 2 or more returned cheques and income less than 50,000\n",
    "cheques_and_income_count = loan_df.filter((col(\" Returned Cheque\") >= 2) & (col(\"Income\") < 50000)).count()\n",
    "print(f\"Number of people with 2 or more returned cheques and income less than 50,000: {cheques_and_income_count}\")\n"
   ]
  },
  {
   "cell_type": "code",
   "execution_count": 0,
   "metadata": {
    "application/vnd.databricks.v1+cell": {
     "cellMetadata": {
      "byteLimit": 2048000,
      "rowLimit": 10000
     },
     "inputWidgets": {},
     "nuid": "fc76eacb-1566-409b-ad48-eb86e2dc09cf",
     "showTitle": false,
     "tableResultSettingsMap": {},
     "title": ""
    }
   },
   "outputs": [
    {
     "output_type": "stream",
     "name": "stdout",
     "output_type": "stream",
     "text": [
      "Number of people with 2 or more returned cheques and are single: 0\n"
     ]
    }
   ],
   "source": [
    "#Number of people with 2 or more returned cheques and are single\n",
    "cheques_and_single_count = loan_df.filter((col(\" Returned Cheque\") >= 2) & (col(\"Marital Status\") == \"Single\")).count()\n",
    "print(f\"Number of people with 2 or more returned cheques and are single: {cheques_and_single_count}\")\n"
   ]
  },
  {
   "cell_type": "code",
   "execution_count": 0,
   "metadata": {
    "application/vnd.databricks.v1+cell": {
     "cellMetadata": {
      "byteLimit": 2048000,
      "rowLimit": 10000
     },
     "inputWidgets": {},
     "nuid": "1235a0ae-1750-4371-a166-2347eba7e919",
     "showTitle": false,
     "tableResultSettingsMap": {},
     "title": ""
    }
   },
   "outputs": [
    {
     "output_type": "stream",
     "name": "stdout",
     "output_type": "stream",
     "text": [
      "Number of people with expenditure over 50,000 a month: 6\n"
     ]
    }
   ],
   "source": [
    "#Number of people with expenditure over 50,000 a month\n",
    "high_expenditure_count = loan_df.filter(col(\"Expenditure\") > 50000).count()\n",
    "print(f\"Number of people with expenditure over 50,000 a month: {high_expenditure_count}\")\n"
   ]
  },
  {
   "cell_type": "code",
   "execution_count": 0,
   "metadata": {
    "application/vnd.databricks.v1+cell": {
     "cellMetadata": {
      "byteLimit": 2048000,
      "rowLimit": 10000
     },
     "inputWidgets": {},
     "nuid": "ba4c7a20-3f3b-4511-9c8b-0d1d23d4990a",
     "showTitle": false,
     "tableResultSettingsMap": {},
     "title": ""
    }
   },
   "outputs": [
    {
     "output_type": "stream",
     "name": "stdout",
     "output_type": "stream",
     "text": [
      "Number of members eligible for a credit card: 22\n"
     ]
    }
   ],
   "source": [
    "#Number of members eligible for a credit card\n",
    "credit_card_eligible = loan_df.filter((col(\"Income\") > 50000) & (col(\" Returned Cheque\") == 0)).count()\n",
    "print(f\"Number of members eligible for a credit card: {credit_card_eligible}\")\n"
   ]
  }
 ],
 "metadata": {
  "application/vnd.databricks.v1+notebook": {
   "dashboards": [],
   "environmentMetadata": null,
   "language": "python",
   "notebookMetadata": {
    "pythonIndentUnit": 4
   },
   "notebookName": "Case Study Loan PySpark",
   "widgets": {}
  }
 },
 "nbformat": 4,
 "nbformat_minor": 0
}
