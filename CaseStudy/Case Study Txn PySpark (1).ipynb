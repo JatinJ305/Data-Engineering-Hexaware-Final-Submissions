{
 "cells": [
  {
   "cell_type": "code",
   "execution_count": 0,
   "metadata": {
    "application/vnd.databricks.v1+cell": {
     "cellMetadata": {
      "byteLimit": 2048000,
      "rowLimit": 10000
     },
     "inputWidgets": {},
     "nuid": "e6be795b-9841-4f2e-9dd2-78ae39ca4374",
     "showTitle": false,
     "tableResultSettingsMap": {},
     "title": ""
    }
   },
   "outputs": [
    {
     "output_type": "stream",
     "name": "stdout",
     "output_type": "stream",
     "text": [
      "root\n |-- Account No: string (nullable = true)\n |-- TRANSACTION DETAILS: string (nullable = true)\n |-- VALUE DATE: string (nullable = true)\n |--  WITHDRAWAL AMT : double (nullable = true)\n |--  DEPOSIT AMT : double (nullable = true)\n |-- BALANCE AMT: double (nullable = true)\n\n+-------------+--------------------+----------+----------------+-------------+-----------+\n|   Account No| TRANSACTION DETAILS|VALUE DATE| WITHDRAWAL AMT | DEPOSIT AMT |BALANCE AMT|\n+-------------+--------------------+----------+----------------+-------------+-----------+\n|409000611074'|TRF FROM  Indiafo...| 29-Jun-17|            null|    1000000.0|  1000000.0|\n|409000611074'|TRF FROM  Indiafo...|  5-Jul-17|            null|    1000000.0|  2000000.0|\n|409000611074'|FDRL/INTERNAL FUN...| 18-Jul-17|            null|     500000.0|  2500000.0|\n|409000611074'|TRF FRM  Indiafor...|  1-Aug-17|            null|    3000000.0|  5500000.0|\n|409000611074'|FDRL/INTERNAL FUN...| 16-Aug-17|            null|     500000.0|  6000000.0|\n+-------------+--------------------+----------+----------------+-------------+-----------+\nonly showing top 5 rows\n\n"
     ]
    }
   ],
   "source": [
    "# Import necessary libraries\n",
    "from pyspark.sql import SparkSession\n",
    "from pyspark.sql.functions import col, max, min, sum, count\n",
    "\n",
    "# Initialize Spark session\n",
    "spark = SparkSession.builder.appName(\"TransactionsAnalysis\").getOrCreate()\n",
    "\n",
    "# Load the CSV file\n",
    "file_path = \"/FileStore/tables/txn.csv\"  # Replace with your file path\n",
    "txn_df = spark.read.option(\"header\", \"true\").csv(file_path, inferSchema=True)\n",
    "\n",
    "# Display the schema and a sample of the data\n",
    "txn_df.printSchema()\n",
    "txn_df.show(5)\n"
   ]
  },
  {
   "cell_type": "code",
   "execution_count": 0,
   "metadata": {
    "application/vnd.databricks.v1+cell": {
     "cellMetadata": {
      "byteLimit": 2048000,
      "rowLimit": 10000
     },
     "inputWidgets": {},
     "nuid": "ba5ac526-1405-4fa0-a22a-31f50c1f6b1c",
     "showTitle": false,
     "tableResultSettingsMap": {},
     "title": ""
    }
   },
   "outputs": [
    {
     "output_type": "stream",
     "name": "stdout",
     "output_type": "stream",
     "text": [
      "Maximum withdrawal amount: 459447546.4\n"
     ]
    }
   ],
   "source": [
    "#Maximum Withdrawal Amount in Transactions\n",
    "max_withdrawal = txn_df.agg(max(\" WITHDRAWAL AMT \").alias(\"MaxWithdrawal\")).collect()[0][0]\n",
    "print(f\"Maximum withdrawal amount: {max_withdrawal}\")\n"
   ]
  },
  {
   "cell_type": "code",
   "execution_count": 0,
   "metadata": {
    "application/vnd.databricks.v1+cell": {
     "cellMetadata": {
      "byteLimit": 2048000,
      "rowLimit": 10000
     },
     "inputWidgets": {},
     "nuid": "4d642dda-bcff-457e-a3f6-34dc69635ac6",
     "showTitle": false,
     "tableResultSettingsMap": {},
     "title": ""
    }
   },
   "outputs": [
    {
     "output_type": "stream",
     "name": "stdout",
     "output_type": "stream",
     "text": [
      "+-------------+-------------+\n|   Account No|MinWithdrawal|\n+-------------+-------------+\n|409000438611'|          0.2|\n|     1196711'|         0.25|\n|     1196428'|         0.25|\n|409000493210'|         0.01|\n|409000611074'|        120.0|\n|409000425051'|         1.25|\n|409000405747'|         21.0|\n|409000493201'|          2.1|\n|409000438620'|         0.34|\n|409000362497'|         0.97|\n+-------------+-------------+\n\n"
     ]
    }
   ],
   "source": [
    "#Minimum Withdrawal Amount of an Account\n",
    "min_withdrawal_per_account = txn_df.groupBy(\"Account No\").agg(min(\" WITHDRAWAL AMT \").alias(\"MinWithdrawal\"))\n",
    "min_withdrawal_per_account.show()\n"
   ]
  },
  {
   "cell_type": "code",
   "execution_count": 0,
   "metadata": {
    "application/vnd.databricks.v1+cell": {
     "cellMetadata": {
      "byteLimit": 2048000,
      "rowLimit": 10000
     },
     "inputWidgets": {},
     "nuid": "b67022ec-4dfd-4b41-8819-ed552e69e002",
     "showTitle": false,
     "tableResultSettingsMap": {},
     "title": ""
    }
   },
   "outputs": [
    {
     "output_type": "stream",
     "name": "stdout",
     "output_type": "stream",
     "text": [
      "+-------------+-------------+\n|   Account No|   MaxDeposit|\n+-------------+-------------+\n|409000438611'|     1.7025E8|\n|     1196711'|        5.0E8|\n|     1196428'|2.119594422E8|\n|409000493210'|        1.5E7|\n|409000611074'|    3000000.0|\n|409000425051'|        1.5E7|\n|409000405747'|      2.021E8|\n|409000493201'|    1000000.0|\n|409000438620'|      5.448E8|\n|409000362497'|        2.0E8|\n+-------------+-------------+\n\n"
     ]
    }
   ],
   "source": [
    "#Maximum Deposit Amount of an Account\n",
    "max_deposit_per_account = txn_df.groupBy(\"Account No\").agg(max(\" DEPOSIT AMT \").alias(\"MaxDeposit\"))\n",
    "max_deposit_per_account.show()\n"
   ]
  },
  {
   "cell_type": "code",
   "execution_count": 0,
   "metadata": {
    "application/vnd.databricks.v1+cell": {
     "cellMetadata": {
      "byteLimit": 2048000,
      "rowLimit": 10000
     },
     "inputWidgets": {},
     "nuid": "1d96a860-65df-4092-867f-88ae2ec7d2a8",
     "showTitle": false,
     "tableResultSettingsMap": {},
     "title": ""
    }
   },
   "outputs": [
    {
     "output_type": "stream",
     "name": "stdout",
     "output_type": "stream",
     "text": [
      "+-------------+----------+\n|   Account No|MinDeposit|\n+-------------+----------+\n|409000438611'|      0.03|\n|     1196711'|      1.01|\n|     1196428'|       1.0|\n|409000493210'|      0.01|\n|409000611074'|    1320.0|\n|409000425051'|       1.0|\n|409000405747'|     500.0|\n|409000493201'|       0.9|\n|409000438620'|      0.07|\n|409000362497'|      0.03|\n+-------------+----------+\n\n"
     ]
    }
   ],
   "source": [
    "#Minimum Deposit Amount of an Account\n",
    "min_deposit_per_account = txn_df.groupBy(\"Account No\").agg(min(\" DEPOSIT AMT \").alias(\"MinDeposit\"))\n",
    "min_deposit_per_account.show()\n"
   ]
  },
  {
   "cell_type": "code",
   "execution_count": 0,
   "metadata": {
    "application/vnd.databricks.v1+cell": {
     "cellMetadata": {
      "byteLimit": 2048000,
      "rowLimit": 10000
     },
     "inputWidgets": {},
     "nuid": "0e5bdcb7-dfc0-4b17-99a8-9503c84f750e",
     "showTitle": false,
     "tableResultSettingsMap": {},
     "title": ""
    }
   },
   "outputs": [
    {
     "output_type": "stream",
     "name": "stdout",
     "output_type": "stream",
     "text": [
      "+-------------+--------------------+\n|   Account No|        TotalBalance|\n+-------------+--------------------+\n|409000438611'|-2.49486577068339...|\n|     1196711'|-1.60476498101275E13|\n|     1196428'| -8.1418498130721E13|\n|409000493210'|-3.27584952132095...|\n|409000611074'|       1.615533622E9|\n|409000425051'|-3.77211841164998...|\n|409000405747'|-2.43108047067000...|\n|409000493201'|1.0420831829499985E9|\n|409000438620'|-7.12291867951358...|\n|409000362497'| -5.2860004792808E13|\n+-------------+--------------------+\n\n"
     ]
    }
   ],
   "source": [
    "#Sum of Balance in Every Bank Account\n",
    "total_balance_per_account = txn_df.groupBy(\"Account No\").agg(sum(\"BALANCE AMT\").alias(\"TotalBalance\"))\n",
    "total_balance_per_account.show()\n"
   ]
  },
  {
   "cell_type": "code",
   "execution_count": 0,
   "metadata": {
    "application/vnd.databricks.v1+cell": {
     "cellMetadata": {
      "byteLimit": 2048000,
      "rowLimit": 10000
     },
     "inputWidgets": {},
     "nuid": "d57c78ec-83a1-44c5-beb1-01ea69a59e89",
     "showTitle": false,
     "tableResultSettingsMap": {},
     "title": ""
    }
   },
   "outputs": [
    {
     "output_type": "stream",
     "name": "stdout",
     "output_type": "stream",
     "text": [
      "+----------+----------------+\n|VALUE DATE|TransactionCount|\n+----------+----------------+\n| 23-Dec-16|             143|\n|  7-Feb-19|              98|\n| 21-Jul-15|              80|\n|  9-Sep-15|              91|\n| 17-Jan-15|              16|\n| 18-Nov-17|              53|\n| 21-Feb-18|              77|\n| 20-Mar-18|              71|\n| 19-Apr-18|              71|\n| 21-Jun-16|              97|\n| 17-Oct-17|             101|\n|  3-Jan-18|              70|\n|  8-Jun-18|             223|\n| 15-Dec-18|              62|\n|  8-Aug-16|              97|\n| 17-Dec-16|              74|\n|  3-Sep-15|              83|\n| 21-Jan-16|              76|\n|  4-May-18|              92|\n|  7-Sep-17|              94|\n+----------+----------------+\nonly showing top 20 rows\n\n"
     ]
    }
   ],
   "source": [
    "#Number of Transactions on Each Date\n",
    "transactions_per_date = txn_df.groupBy(\"VALUE DATE\").agg(count(\"*\").alias(\"TransactionCount\"))\n",
    "transactions_per_date.show()\n"
   ]
  },
  {
   "cell_type": "code",
   "execution_count": 0,
   "metadata": {
    "application/vnd.databricks.v1+cell": {
     "cellMetadata": {
      "byteLimit": 2048000,
      "rowLimit": 10000
     },
     "inputWidgets": {},
     "nuid": "1f673997-97b0-496e-840c-04c37bf60b0c",
     "showTitle": false,
     "tableResultSettingsMap": {},
     "title": ""
    }
   },
   "outputs": [
    {
     "output_type": "stream",
     "name": "stdout",
     "output_type": "stream",
     "text": [
      "+-------------+----------------+\n|   Account No| WITHDRAWAL AMT |\n+-------------+----------------+\n|409000611074'|        133900.0|\n|409000611074'|        195800.0|\n|409000611074'|        143800.0|\n|409000611074'|        331650.0|\n|409000611074'|        129000.0|\n|409000611074'|        230013.0|\n|409000611074'|        367900.0|\n|409000611074'|        108000.0|\n|409000611074'|        141000.0|\n|409000611074'|        206000.0|\n|409000611074'|        242300.0|\n|409000611074'|        113250.0|\n|409000611074'|        206900.0|\n|409000611074'|        276000.0|\n|409000611074'|        171000.0|\n|409000611074'|        189800.0|\n|409000611074'|        271323.0|\n|409000611074'|        200600.0|\n|409000611074'|        176900.0|\n|409000611074'|        150050.0|\n+-------------+----------------+\nonly showing top 20 rows\n\n"
     ]
    }
   ],
   "source": [
    "#List of Customers with Withdrawal Amount More Than 1 Lakh\n",
    "high_withdrawals = txn_df.filter(col(\" WITHDRAWAL AMT \") > 100000).select(\"Account No\", \" WITHDRAWAL AMT \")\n",
    "high_withdrawals.show()\n"
   ]
  }
 ],
 "metadata": {
  "application/vnd.databricks.v1+notebook": {
   "dashboards": [],
   "environmentMetadata": null,
   "language": "python",
   "notebookMetadata": {
    "pythonIndentUnit": 4
   },
   "notebookName": "Case Study Txn PySpark",
   "widgets": {}
  }
 },
 "nbformat": 4,
 "nbformat_minor": 0
}
