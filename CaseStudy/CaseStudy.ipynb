{
 "cells": [
  {
   "cell_type": "code",
   "execution_count": 1,
   "id": "6f15714d-5997-44d3-a8c6-4aebbd9b6852",
   "metadata": {
    "tags": []
   },
   "outputs": [
    {
     "name": "stdout",
     "output_type": "stream",
     "text": [
      "Initial Rows:\n",
      "    Loan_ID Gender Married Dependents     Education Self_Employed  \\\n",
      "0  LP001002   Male      No          0      Graduate            No   \n",
      "1  LP001003   Male     Yes          1      Graduate            No   \n",
      "2  LP001005   Male     Yes          0      Graduate           Yes   \n",
      "3  LP001006   Male     Yes          0  Not Graduate            No   \n",
      "4  LP001008   Male      No          0      Graduate            No   \n",
      "\n",
      "   ApplicantIncome  CoapplicantIncome  LoanAmount  Loan_Amount_Term  \\\n",
      "0             5849                0.0         NaN             360.0   \n",
      "1             4583             1508.0       128.0             360.0   \n",
      "2             3000                0.0        66.0             360.0   \n",
      "3             2583             2358.0       120.0             360.0   \n",
      "4             6000                0.0       141.0             360.0   \n",
      "\n",
      "   Credit_History Property_Area Loan_Status  \n",
      "0             1.0         Urban           Y  \n",
      "1             1.0         Rural           N  \n",
      "2             1.0         Urban           Y  \n",
      "3             1.0         Urban           Y  \n",
      "4             1.0         Urban           Y  \n",
      "\n",
      "Column Names:\n",
      "['Loan_ID', 'Gender', 'Married', 'Dependents', 'Education', 'Self_Employed', 'ApplicantIncome', 'CoapplicantIncome', 'LoanAmount', 'Loan_Amount_Term', 'Credit_History', 'Property_Area', 'Loan_Status']\n"
     ]
    }
   ],
   "source": [
    "import pandas as pd\n",
    "\n",
    "# Load the data into a Pandas DataFrame\n",
    "data = pd.read_csv('LoanData.csv')\n",
    "\n",
    "# Display initial rows\n",
    "print(\"Initial Rows:\")\n",
    "print(data.head())\n",
    "\n",
    "# Display column names\n",
    "print(\"\\nColumn Names:\")\n",
    "print(data.columns.tolist())\n"
   ]
  },
  {
   "cell_type": "code",
   "execution_count": 2,
   "id": "e58c4b27-2303-41c8-a339-dd22c7ef73dd",
   "metadata": {
    "tags": []
   },
   "outputs": [
    {
     "name": "stdout",
     "output_type": "stream",
     "text": [
      "Initial Rows:\n",
      "    Loan_ID Gender Married Dependents     Education Self_Employed  \\\n",
      "0  LP001002   Male      No          0      Graduate            No   \n",
      "1  LP001003   Male     Yes          1      Graduate            No   \n",
      "2  LP001005   Male     Yes          0      Graduate           Yes   \n",
      "3  LP001006   Male     Yes          0  Not Graduate            No   \n",
      "4  LP001008   Male      No          0      Graduate            No   \n",
      "\n",
      "   ApplicantIncome  CoapplicantIncome  LoanAmount  Loan_Amount_Term  \\\n",
      "0             5849                0.0         NaN             360.0   \n",
      "1             4583             1508.0       128.0             360.0   \n",
      "2             3000                0.0        66.0             360.0   \n",
      "3             2583             2358.0       120.0             360.0   \n",
      "4             6000                0.0       141.0             360.0   \n",
      "\n",
      "   Credit_History Property_Area Loan_Status  \n",
      "0             1.0         Urban           Y  \n",
      "1             1.0         Rural           N  \n",
      "2             1.0         Urban           Y  \n",
      "3             1.0         Urban           Y  \n",
      "4             1.0         Urban           Y  \n"
     ]
    }
   ],
   "source": [
    "# 1. Printing rows of the Data\n",
    "print(\"Initial Rows:\")\n",
    "print(data.head())"
   ]
  },
  {
   "cell_type": "code",
   "execution_count": 3,
   "id": "ae294b29-3e16-4a32-9b43-a6dfd3cf5f7a",
   "metadata": {
    "tags": []
   },
   "outputs": [
    {
     "name": "stdout",
     "output_type": "stream",
     "text": [
      "\n",
      "Column Names:\n",
      "['Loan_ID', 'Gender', 'Married', 'Dependents', 'Education', 'Self_Employed', 'ApplicantIncome', 'CoapplicantIncome', 'LoanAmount', 'Loan_Amount_Term', 'Credit_History', 'Property_Area', 'Loan_Status']\n"
     ]
    }
   ],
   "source": [
    "# 2. Printing the column names of the DataFrame\n",
    "print(\"\\nColumn Names:\")\n",
    "print(data.columns.tolist())"
   ]
  },
  {
   "cell_type": "code",
   "execution_count": 4,
   "id": "b053d101-dd40-4170-93d0-f78deb1e7270",
   "metadata": {
    "tags": []
   },
   "outputs": [
    {
     "name": "stdout",
     "output_type": "stream",
     "text": [
      "\n",
      "Summary of DataFrame:\n",
      "<class 'pandas.core.frame.DataFrame'>\n",
      "RangeIndex: 614 entries, 0 to 613\n",
      "Data columns (total 13 columns):\n",
      " #   Column             Non-Null Count  Dtype  \n",
      "---  ------             --------------  -----  \n",
      " 0   Loan_ID            614 non-null    object \n",
      " 1   Gender             601 non-null    object \n",
      " 2   Married            611 non-null    object \n",
      " 3   Dependents         599 non-null    object \n",
      " 4   Education          614 non-null    object \n",
      " 5   Self_Employed      582 non-null    object \n",
      " 6   ApplicantIncome    614 non-null    int64  \n",
      " 7   CoapplicantIncome  614 non-null    float64\n",
      " 8   LoanAmount         592 non-null    float64\n",
      " 9   Loan_Amount_Term   600 non-null    float64\n",
      " 10  Credit_History     564 non-null    float64\n",
      " 11  Property_Area      614 non-null    object \n",
      " 12  Loan_Status        614 non-null    object \n",
      "dtypes: float64(4), int64(1), object(8)\n",
      "memory usage: 62.5+ KB\n",
      "None\n"
     ]
    }
   ],
   "source": [
    "# 3. Summary of the DataFrame\n",
    "print(\"\\nSummary of DataFrame:\")\n",
    "print(data.info())"
   ]
  },
  {
   "cell_type": "code",
   "execution_count": 5,
   "id": "635587a4-452b-480b-8a9d-9f07e18a629a",
   "metadata": {
    "tags": []
   },
   "outputs": [
    {
     "name": "stdout",
     "output_type": "stream",
     "text": [
      "\n",
      "Descriptive Statistics:\n",
      "       ApplicantIncome  CoapplicantIncome  LoanAmount  Loan_Amount_Term  \\\n",
      "count       614.000000         614.000000  592.000000         600.00000   \n",
      "mean       5403.459283        1621.245798  146.412162         342.00000   \n",
      "std        6109.041673        2926.248369   85.587325          65.12041   \n",
      "min         150.000000           0.000000    9.000000          12.00000   \n",
      "25%        2877.500000           0.000000  100.000000         360.00000   \n",
      "50%        3812.500000        1188.500000  128.000000         360.00000   \n",
      "75%        5795.000000        2297.250000  168.000000         360.00000   \n",
      "max       81000.000000       41667.000000  700.000000         480.00000   \n",
      "\n",
      "       Credit_History  \n",
      "count      564.000000  \n",
      "mean         0.842199  \n",
      "std          0.364878  \n",
      "min          0.000000  \n",
      "25%          1.000000  \n",
      "50%          1.000000  \n",
      "75%          1.000000  \n",
      "max          1.000000  \n"
     ]
    }
   ],
   "source": [
    "# 4. Descriptive Statistical Measures of the DataFrame\n",
    "print(\"\\nDescriptive Statistics:\")\n",
    "print(data.describe())"
   ]
  },
  {
   "cell_type": "code",
   "execution_count": 6,
   "id": "3cb9543d-a94a-4a1b-bb1d-ac0637b0e4bc",
   "metadata": {
    "tags": []
   },
   "outputs": [
    {
     "name": "stdout",
     "output_type": "stream",
     "text": [
      "\n",
      "Missing Data Count:\n",
      "Loan_ID               0\n",
      "Gender               13\n",
      "Married               3\n",
      "Dependents           15\n",
      "Education             0\n",
      "Self_Employed        32\n",
      "ApplicantIncome       0\n",
      "CoapplicantIncome     0\n",
      "LoanAmount           22\n",
      "Loan_Amount_Term     14\n",
      "Credit_History       50\n",
      "Property_Area         0\n",
      "Loan_Status           0\n",
      "dtype: int64\n"
     ]
    }
   ],
   "source": [
    "# 5. Missing Data Handling\n",
    "# Check for missing values\n",
    "print(\"\\nMissing Data Count:\")\n",
    "print(data.isnull().sum())\n",
    "# Example: Filling missing values with mean for numeric columns\n",
    "data['LoanAmount'].fillna(data['LoanAmount'].mean(), inplace=True)"
   ]
  },
  {
   "cell_type": "code",
   "execution_count": 7,
   "id": "120cf5d5-af9d-4760-b9c2-3b7d3a2020fa",
   "metadata": {
    "tags": []
   },
   "outputs": [
    {
     "name": "stdout",
     "output_type": "stream",
     "text": [
      "\n",
      "Top 5 rows after sorting by ApplicantIncome:\n",
      "      Loan_ID Gender Married Dependents Education Self_Employed  \\\n",
      "409  LP002317   Male     Yes         3+  Graduate            No   \n",
      "333  LP002101   Male     Yes          0  Graduate           NaN   \n",
      "171  LP001585    NaN     Yes         3+  Graduate            No   \n",
      "155  LP001536   Male     Yes         3+  Graduate            No   \n",
      "185  LP001640   Male     Yes          0  Graduate           Yes   \n",
      "\n",
      "     ApplicantIncome  CoapplicantIncome  LoanAmount  Loan_Amount_Term  \\\n",
      "409            81000                0.0       360.0             360.0   \n",
      "333            63337                0.0       490.0             180.0   \n",
      "171            51763                0.0       700.0             300.0   \n",
      "155            39999                0.0       600.0             180.0   \n",
      "185            39147             4750.0       120.0             360.0   \n",
      "\n",
      "     Credit_History Property_Area Loan_Status  \n",
      "409             0.0         Rural           N  \n",
      "333             1.0         Urban           Y  \n",
      "171             1.0         Urban           Y  \n",
      "155             0.0     Semiurban           Y  \n",
      "185             1.0     Semiurban           Y  \n"
     ]
    }
   ],
   "source": [
    "# 6. Sorting DataFrame values\n",
    "# Example: Sorting by ApplicantIncome\n",
    "sorted_data = data.sort_values(by='ApplicantIncome', ascending=False)\n",
    "print(\"\\nTop 5 rows after sorting by ApplicantIncome:\")\n",
    "print(sorted_data.head())"
   ]
  },
  {
   "cell_type": "code",
   "execution_count": 8,
   "id": "2aaa0483-7341-4dc3-9ecf-587c2cdd9ae4",
   "metadata": {
    "tags": []
   },
   "outputs": [
    {
     "name": "stdout",
     "output_type": "stream",
     "text": [
      "\n",
      "Merged DataFrame Example:\n",
      "    Loan_ID Gender Married Dependents     Education Self_Employed  \\\n",
      "0  LP001002   Male      No          0      Graduate            No   \n",
      "1  LP001003   Male     Yes          1      Graduate            No   \n",
      "2  LP001005   Male     Yes          0      Graduate           Yes   \n",
      "3  LP001006   Male     Yes          0  Not Graduate            No   \n",
      "4  LP001008   Male      No          0      Graduate            No   \n",
      "\n",
      "   ApplicantIncome  CoapplicantIncome  LoanAmount  Loan_Amount_Term  \\\n",
      "0             5849                0.0  146.412162             360.0   \n",
      "1             4583             1508.0  128.000000             360.0   \n",
      "2             3000                0.0   66.000000             360.0   \n",
      "3             2583             2358.0  120.000000             360.0   \n",
      "4             6000                0.0  141.000000             360.0   \n",
      "\n",
      "   Credit_History Property_Area Loan_Status New_Column  \n",
      "0             1.0         Urban           Y     Value1  \n",
      "1             1.0         Rural           N     Value2  \n",
      "2             1.0         Urban           Y        NaN  \n",
      "3             1.0         Urban           Y        NaN  \n",
      "4             1.0         Urban           Y        NaN  \n"
     ]
    }
   ],
   "source": [
    "# 7. Merging DataFrames\n",
    "# Example: Creating a dummy DataFrame for merge demonstration\n",
    "dummy_data = pd.DataFrame({\n",
    "    'Loan_ID': ['LP001002', 'LP001003'],\n",
    "    'New_Column': ['Value1', 'Value2']\n",
    "})\n",
    "merged_data = pd.merge(data, dummy_data, on='Loan_ID', how='left')\n",
    "print(\"\\nMerged DataFrame Example:\")\n",
    "print(merged_data.head())"
   ]
  },
  {
   "cell_type": "code",
   "execution_count": 9,
   "id": "b7843be2-8e75-41a4-9e8b-0c3175f08181",
   "metadata": {
    "tags": []
   },
   "outputs": [
    {
     "name": "stdout",
     "output_type": "stream",
     "text": [
      "\n",
      "Updated LoanAmount Example:\n",
      "   LoanAmount  Updated_LoanAmount\n",
      "0  146.412162          161.053378\n",
      "1  128.000000          140.800000\n",
      "2   66.000000           72.600000\n",
      "3  120.000000          132.000000\n",
      "4  141.000000          155.100000\n"
     ]
    }
   ],
   "source": [
    "# 8. Apply Function\n",
    "# Example: Adding 10% to LoanAmount\n",
    "data['Updated_LoanAmount'] = data['LoanAmount'].apply(lambda x: x * 1.1)\n",
    "print(\"\\nUpdated LoanAmount Example:\")\n",
    "print(data[['LoanAmount', 'Updated_LoanAmount']].head())"
   ]
  },
  {
   "cell_type": "code",
   "execution_count": 10,
   "id": "1bc4dac3-2bf7-4c22-9278-1c95d24d4306",
   "metadata": {
    "tags": []
   },
   "outputs": [
    {
     "name": "stdout",
     "output_type": "stream",
     "text": [
      "\n",
      "Income Level Example:\n",
      "   ApplicantIncome Income_Level\n",
      "0             5849         High\n",
      "1             4583          Low\n",
      "2             3000          Low\n",
      "3             2583          Low\n",
      "4             6000         High\n"
     ]
    }
   ],
   "source": [
    "\n",
    "# 9. Using the Lambda Operator\n",
    "# Example: Categorizing Income Levels\n",
    "data['Income_Level'] = data['ApplicantIncome'].apply(lambda x: 'High' if x > 5000 else 'Low')\n",
    "print(\"\\nIncome Level Example:\")\n",
    "print(data[['ApplicantIncome', 'Income_Level']].head())"
   ]
  },
  {
   "cell_type": "code",
   "execution_count": 12,
   "id": "02c8ce67-4bf5-4a84-8e89-8b9d2d8620b0",
   "metadata": {
    "tags": []
   },
   "outputs": [
    {
     "data": {
      "image/png": "[encoded data removed]",
      "text/plain": [
       "<Figure size 640x480 with 1 Axes>"
      ]
     },
     "metadata": {},
     "output_type": "display_data"
    }
   ],
   "source": [
    "import matplotlib.pyplot as plt\n",
    "# 10. Visualizing DataFrame\n",
    "# Example: Bar plot for Loan Status\n",
    "loan_status_count = data['Loan_Status'].value_counts()\n",
    "loan_status_count.plot(kind='bar', color=['blue', 'orange'])\n",
    "plt.title(\"Loan Status Count\")\n",
    "plt.xlabel(\"Loan Status\")\n",
    "plt.ylabel(\"Count\")\n",
    "plt.show()"
   ]
  },
  {
   "cell_type": "code",
   "execution_count": null,
   "id": "b8627fb9-a5d2-431c-ba42-8fbf1e71f369",
   "metadata": {},
   "outputs": [],
   "source": []
  }
 ],
 "metadata": {
  "kernelspec": {
   "display_name": "Python 3 (ipykernel)",
   "language": "python",
   "name": "python3"
  },
  "language_info": {
   "codemirror_mode": {
    "name": "ipython",
    "version": 3
   },
   "file_extension": ".py",
   "mimetype": "text/x-python",
   "name": "python",
   "nbconvert_exporter": "python",
   "pygments_lexer": "ipython3",
   "version": "3.7.0"
  }
 },
 "nbformat": 4,
 "nbformat_minor": 5
}
