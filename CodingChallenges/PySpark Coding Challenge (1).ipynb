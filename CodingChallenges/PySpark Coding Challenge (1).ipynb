{
 "cells": [
  {
   "cell_type": "code",
   "execution_count": 0,
   "metadata": {
    "application/vnd.databricks.v1+cell": {
     "cellMetadata": {
      "byteLimit": 2048000,
      "rowLimit": 10000
     },
     "inputWidgets": {},
     "nuid": "d44c2494-d6f5-4f98-ba75-26d1f198e324",
     "showTitle": false,
     "tableResultSettingsMap": {},
     "title": ""
    }
   },
   "outputs": [],
   "source": [
    "from pyspark.sql import SparkSession\n",
    "\n",
    "# Initialize Spark session\n",
    "spark = SparkSession.builder \\\n",
    "    .appName(\"SparkSQL_Transformations\") \\\n",
    "    .getOrCreate()\n",
    "\n",
    "# Load the dataset\n",
    "file_path = \"/FileStore/tables/Loan/loan.csv\"\n",
    "df = spark.read.csv(file_path, header=True, inferSchema=True)\n",
    "\n",
    "# Register as SQL table\n",
    "df.createOrReplaceTempView(\"loans\")\n",
    "\n"
   ]
  },
  {
   "cell_type": "code",
   "execution_count": 0,
   "metadata": {
    "application/vnd.databricks.v1+cell": {
     "cellMetadata": {
      "byteLimit": 2048000,
      "rowLimit": 10000
     },
     "inputWidgets": {},
     "nuid": "5e2a3ad7-28dd-4be5-9b37-4273bac270c8",
     "showTitle": false,
     "tableResultSettingsMap": {},
     "title": ""
    }
   },
   "outputs": [
    {
     "output_type": "stream",
     "name": "stdout",
     "output_type": "stream",
     "text": [
      "+-----------+---+------+-------------------+--------------+-----------+------+-----------+-------------+----------------+-----------+-------+------------+----------------+------------------+\n|Customer_ID|Age|Gender|         Occupation|Marital Status|Family Size|Income|Expenditure|Use Frequency|   Loan Category|Loan Amount|Overdue| Debt Record| Returned Cheque| Dishonour of Bill|\n+-----------+---+------+-------------------+--------------+-----------+------+-----------+-------------+----------------+-----------+-------+------------+----------------+------------------+\n|    IB14001| 30|  MALE|       BANK MANAGER|        SINGLE|          4| 50000|      22199|            6|         HOUSING| 10,00,000 |      5|      42,898|               6|                 9|\n|    IB14008| 44|  MALE|          PROFESSOR|       MARRIED|          6| 51000|      19999|            4|        SHOPPING|     50,000|      3|      33,999|               1|                 5|\n|    IB14012| 30|FEMALE|            DENTIST|        SINGLE|          3| 58450|      27675|            5|      TRAVELLING|     75,000|      6|      20,876|               3|                 1|\n|    IB14018| 29|  MALE|            TEACHER|       MARRIED|          5| 45767|      12787|            3|       GOLD LOAN|  6,00,000 |      7|      11,000|               0|                 4|\n|    IB14022| 34|  MALE|             POLICE|        SINGLE|          4| 43521|      11999|            3|      AUTOMOBILE|  2,00,000 |      2|      43,898|               1|                 2|\n|    IB14024| 55|FEMALE|              NURSE|       MARRIED|          6| 34999|      19888|            4|      AUTOMOBILE|     47,787|      1|      50,000|               0|                 3|\n|    IB14025| 39|FEMALE|            TEACHER|       MARRIED|          6| 46619|      18675|            4|         HOUSING| 12,09,867 |      8|      29,999|               6|                 8|\n|    IB14027| 51|  MALE|     SYSTEM MANAGER|       MARRIED|          3| 49999|      19111|            5|     RESTAURANTS|     60,676|      8|      13,000|               2|                 5|\n|    IB14029| 24|FEMALE|            TEACHER|        SINGLE|          3| 45008|      17454|            4|      AUTOMOBILE|  3,99,435 |      9|      51,987|               4|                 7|\n|    IB14031| 37|FEMALE|  SOFTWARE ENGINEER|       MARRIED|          5| 55999|      23999|            5|      AUTOMOBILE|     60,999|      2|           0|               5|                 3|\n|    IB14032| 24|  MALE|       DATA ANALYST|        SINGLE|          4| 60111|      28999|            6|      AUTOMOBILE|     35,232|      5|      33,333|               1|                 2|\n|    IB14037| 54|FEMALE|            TEACHER|       MARRIED|          5| 48099|      19999|            4|     RESTAURANTS|     30,999|      1|      12,000|               7|                 5|\n|    IB14039| 45|  MALE|    ACCOUNT MANAGER|       MARRIED|          7| 45777|      18452|            4|       GOLD LOAN|  9,87,611 |      7|      39,999|               8|                 1|\n|    IB14041| 59|FEMALE|ASSISTANT PROFESSOR|       MARRIED|          4| 50999|      22999|            5|EDUCATIONAL LOAN|  5,99,934 |      3|       9,000|               9|                 9|\n|    IB14042| 25|FEMALE|             DOCTOR|        SINGLE|          4| 60111|      27111|            5|      TRAVELLING| 12,90,929 |      4|      18,000|               1|                 0|\n|    IB14045| 31|  MALE|       STORE KEEPER|        SINGLE|          5| 40999|      11999|            3|     BOOK STORES|  1,67,654 |      1|       4,500|               0|                 1|\n|    IB14049| 49|  MALE|       BANK MANAGER|       MARRIED|          4| 45999|      14500|            4|      TRAVELLING|     79,999|      4|       6,700|               7|                 3|\n|    IB14054| 58|FEMALE|             DOCTOR|       MARRIED|          5| 60000|      25000|            5|         HOUSING|  9,00,000 |      5|      21,000|               9|                 0|\n|    IB14057| 25|  MALE|    AIRPORT OFFICER|        SINGLE|          4| 40000|      18888|            3|     RESTAURANTS|  4,00,000 |      8|      11,111|               1|                 7|\n|    IB14060| 36|FEMALE|              CLERK|       MARRIED|          4| 35000|      15000|            3|         HOUSING|  3,00,000 |      2|       5,600|               4|                 8|\n+-----------+---+------+-------------------+--------------+-----------+------+-----------+-------------+----------------+-----------+-------+------------+----------------+------------------+\nonly showing top 20 rows\n\n+-----------+---+------+-------------------+--------------+-----------+------+-----------+-------------+----------------+-----------+-------+------------+----------------+------------------+\n|Customer_ID|Age|Gender|         Occupation|Marital Status|Family Size|Income|Expenditure|Use Frequency|   Loan Category|Loan Amount|Overdue| Debt Record| Returned Cheque| Dishonour of Bill|\n+-----------+---+------+-------------------+--------------+-----------+------+-----------+-------------+----------------+-----------+-------+------------+----------------+------------------+\n|    IB14001| 30|  MALE|       BANK MANAGER|        SINGLE|          4| 50000|      22199|            6|         HOUSING| 10,00,000 |      5|      42,898|               6|                 9|\n|    IB14008| 44|  MALE|          PROFESSOR|       MARRIED|          6| 51000|      19999|            4|        SHOPPING|     50,000|      3|      33,999|               1|                 5|\n|    IB14012| 30|FEMALE|            DENTIST|        SINGLE|          3| 58450|      27675|            5|      TRAVELLING|     75,000|      6|      20,876|               3|                 1|\n|    IB14018| 29|  MALE|            TEACHER|       MARRIED|          5| 45767|      12787|            3|       GOLD LOAN|  6,00,000 |      7|      11,000|               0|                 4|\n|    IB14022| 34|  MALE|             POLICE|        SINGLE|          4| 43521|      11999|            3|      AUTOMOBILE|  2,00,000 |      2|      43,898|               1|                 2|\n|    IB14024| 55|FEMALE|              NURSE|       MARRIED|          6| 34999|      19888|            4|      AUTOMOBILE|     47,787|      1|      50,000|               0|                 3|\n|    IB14025| 39|FEMALE|            TEACHER|       MARRIED|          6| 46619|      18675|            4|         HOUSING| 12,09,867 |      8|      29,999|               6|                 8|\n|    IB14027| 51|  MALE|     SYSTEM MANAGER|       MARRIED|          3| 49999|      19111|            5|     RESTAURANTS|     60,676|      8|      13,000|               2|                 5|\n|    IB14029| 24|FEMALE|            TEACHER|        SINGLE|          3| 45008|      17454|            4|      AUTOMOBILE|  3,99,435 |      9|      51,987|               4|                 7|\n|    IB14031| 37|FEMALE|  SOFTWARE ENGINEER|       MARRIED|          5| 55999|      23999|            5|      AUTOMOBILE|     60,999|      2|           0|               5|                 3|\n|    IB14032| 24|  MALE|       DATA ANALYST|        SINGLE|          4| 60111|      28999|            6|      AUTOMOBILE|     35,232|      5|      33,333|               1|                 2|\n|    IB14037| 54|FEMALE|            TEACHER|       MARRIED|          5| 48099|      19999|            4|     RESTAURANTS|     30,999|      1|      12,000|               7|                 5|\n|    IB14039| 45|  MALE|    ACCOUNT MANAGER|       MARRIED|          7| 45777|      18452|            4|       GOLD LOAN|  9,87,611 |      7|      39,999|               8|                 1|\n|    IB14041| 59|FEMALE|ASSISTANT PROFESSOR|       MARRIED|          4| 50999|      22999|            5|EDUCATIONAL LOAN|  5,99,934 |      3|       9,000|               9|                 9|\n|    IB14042| 25|FEMALE|             DOCTOR|        SINGLE|          4| 60111|      27111|            5|      TRAVELLING| 12,90,929 |      4|      18,000|               1|                 0|\n|    IB14045| 31|  MALE|       STORE KEEPER|        SINGLE|          5| 40999|      11999|            3|     BOOK STORES|  1,67,654 |      1|       4,500|               0|                 1|\n|    IB14049| 49|  MALE|       BANK MANAGER|       MARRIED|          4| 45999|      14500|            4|      TRAVELLING|     79,999|      4|       6,700|               7|                 3|\n|    IB14054| 58|FEMALE|             DOCTOR|       MARRIED|          5| 60000|      25000|            5|         HOUSING|  9,00,000 |      5|      21,000|               9|                 0|\n|    IB14057| 25|  MALE|    AIRPORT OFFICER|        SINGLE|          4| 40000|      18888|            3|     RESTAURANTS|  4,00,000 |      8|      11,111|               1|                 7|\n|    IB14060| 36|FEMALE|              CLERK|       MARRIED|          4| 35000|      15000|            3|         HOUSING|  3,00,000 |      2|       5,600|               4|                 8|\n+-----------+---+------+-------------------+--------------+-----------+------+-----------+-------------+----------------+-----------+-------+------------+----------------+------------------+\nonly showing top 20 rows\n\n"
     ]
    }
   ],
   "source": [
    "# Sample SQL Queries Using Filter:\n",
    "# Example 1. Filter loans with Income > 10,000\n",
    "high_loans = spark.sql(\"SELECT * FROM loans WHERE `Income` > 10000\")\n",
    "high_loans.show()\n",
    "\n",
    "# Example 1: Using Filter function Filter rows with Income > 10,000\n",
    "high_loans_df = df.filter(df[\"Income\"] > 2000)\n",
    "high_loans_df.show()\n",
    "\n"
   ]
  },
  {
   "cell_type": "code",
   "execution_count": 0,
   "metadata": {
    "application/vnd.databricks.v1+cell": {
     "cellMetadata": {
      "byteLimit": 2048000,
      "rowLimit": 10000
     },
     "inputWidgets": {},
     "nuid": "b0eabbc9-bd20-46d5-a0d1-e22dae6e0f6a",
     "showTitle": false,
     "tableResultSettingsMap": {},
     "title": ""
    }
   },
   "outputs": [
    {
     "output_type": "stream",
     "name": "stdout",
     "output_type": "stream",
     "text": [
      "+-----------------+\n|       Avg_Income|\n+-----------------+\n|68339.49145299145|\n+-----------------+\n\n"
     ]
    }
   ],
   "source": [
    "# Sample SQL Queries Using Aggregation:\n",
    "# 1. Aggregation: Calculate the average Income\n",
    "avg_loan = spark.sql(\"SELECT AVG(Income) AS Avg_Income FROM loans\")\n",
    "avg_loan.show()\n"
   ]
  },
  {
   "cell_type": "code",
   "execution_count": 0,
   "metadata": {
    "application/vnd.databricks.v1+cell": {
     "cellMetadata": {
      "byteLimit": 2048000,
      "rowLimit": 10000
     },
     "inputWidgets": {},
     "nuid": "f8db0511-3a13-43a6-889c-e6c1b8decfcc",
     "showTitle": false,
     "tableResultSettingsMap": {},
     "title": ""
    }
   },
   "outputs": [
    {
     "output_type": "stream",
     "name": "stdout",
     "output_type": "stream",
     "text": [
      "+----------+----------+\n|Occupation|Avg_Income|\n+----------+----------+\n|  Engineer|   40000.0|\n|   Teacher|   45000.0|\n|    Doctor|   50000.0|\n|    Lawyer|   60000.0|\n| Architect|   55000.0|\n+----------+----------+\n\n+------+-----------------+\n|Gender|Total_Expenditure|\n+------+-----------------+\n|  Male|           105000|\n|Female|            65000|\n+------+-----------------+\n\n"
     ]
    }
   ],
   "source": [
    "# Sample SQL Queries Using GroupBy:\n",
    "# 1. Grouping by Occupation and calculating the average Income for each occupation\n",
    "# SQL Query to group by 'Occupation' and calculate average 'Income'\n",
    "group_by_occupation_query = \"\"\"\n",
    "SELECT \n",
    "    Occupation, \n",
    "    AVG(Income) AS Avg_Income\n",
    "FROM customer_info\n",
    "GROUP BY Occupation\n",
    "\"\"\"\n",
    "group_by_occupation_result = spark.sql(group_by_occupation_query)\n",
    "group_by_occupation_result.show()\n",
    "\n",
    "#2. Grouping by Gender and calculating the total Expenditure for each gender\n",
    "group_by_gender_query = \"\"\"\n",
    "SELECT \n",
    "    Gender, \n",
    "    SUM(Expenditure) AS Total_Expenditure\n",
    "FROM customer_info\n",
    "GROUP BY Gender\n",
    "\"\"\"\n",
    "\n",
    "group_by_gender_result = spark.sql(group_by_gender_query)\n",
    "group_by_gender_result.show()\n",
    "\n"
   ]
  },
  {
   "cell_type": "code",
   "execution_count": 0,
   "metadata": {
    "application/vnd.databricks.v1+cell": {
     "cellMetadata": {
      "byteLimit": 2048000,
      "rowLimit": 10000
     },
     "inputWidgets": {},
     "nuid": "8b67cc7c-7c6d-4839-92cd-75d7a241443f",
     "showTitle": false,
     "tableResultSettingsMap": {},
     "title": ""
    }
   },
   "outputs": [
    {
     "output_type": "stream",
     "name": "stdout",
     "output_type": "stream",
     "text": [
      "+-----------+---+------+----------+------+-------------+-----------+-------+\n|Customer_ID|Age|Gender|Occupation|Income|Loan Category|Loan Amount|Overdue|\n+-----------+---+------+----------+------+-------------+-----------+-------+\n|       C001| 30|  Male|  Engineer| 40000|     Personal|      50000|      1|\n|       C002| 40|Female|   Teacher| 45000|         Auto|      20000|      0|\n|       C003| 35|  Male|    Doctor| 50000|         Home|     150000|      2|\n|       C004| 50|Female|    Lawyer| 60000|    Education|      25000|      0|\n|       C005| 45|  Male| Architect| 55000|     Personal|     100000|      1|\n+-----------+---+------+----------+------+-------------+-----------+-------+\n\n+-----------+---+------+----------+------+-------------+-----------+-------+\n|Customer_ID|Age|Gender|Occupation|Income|Loan Category|Loan Amount|Overdue|\n+-----------+---+------+----------+------+-------------+-----------+-------+\n|       C001| 30|  Male|  Engineer| 40000|     Personal|      50000|      1|\n|       C002| 40|Female|   Teacher| 45000|         Auto|      20000|      0|\n|       C003| 35|  Male|    Doctor| 50000|         Home|     150000|      2|\n|       C004| 50|Female|    Lawyer| 60000|    Education|      25000|      0|\n|       C005| 45|  Male| Architect| 55000|     Personal|     100000|      1|\n+-----------+---+------+----------+------+-------------+-----------+-------+\n\n"
     ]
    }
   ],
   "source": [
    "# Sample SQL Queries Using Joins:\n",
    "# Create sample data for customer_info (5 records)\n",
    "customer_data = [\n",
    "    (\"C001\", 30, \"Male\", \"Engineer\", \"Married\", 3, 40000, 30000, 4, \"Good\", 0, 0),\n",
    "    (\"C002\", 40, \"Female\", \"Teacher\", \"Single\", 2, 45000, 20000, 5, \"Fair\", 1, 1),\n",
    "    (\"C003\", 35, \"Male\", \"Doctor\", \"Married\", 4, 50000, 35000, 6, \"Excellent\", 0, 0),\n",
    "    (\"C004\", 50, \"Female\", \"Lawyer\", \"Married\", 5, 60000, 45000, 3, \"Good\", 0, 0),\n",
    "    (\"C005\", 45, \"Male\", \"Architect\", \"Single\", 3, 55000, 40000, 7, \"Fair\", 1, 1)\n",
    "]\n",
    "\n",
    "# Create DataFrame for customer_info\n",
    "customer_columns = [\"Customer_ID\", \"Age\", \"Gender\", \"Occupation\", \"Marital Status\", \"Family Size\", \n",
    "                    \"Income\", \"Expenditure\", \"Use Frequency\", \"Debt Record\", \"Returned Cheque\", \"Dishonour of Bill\"]\n",
    "customer_info_df = spark.createDataFrame(customer_data, customer_columns)\n",
    "\n",
    "# Create sample data for loan_info (5 records)\n",
    "loan_data = [\n",
    "    (\"C001\", \"Personal\", \"50000\", 1),\n",
    "    (\"C002\", \"Auto\", \"20000\", 0),\n",
    "    (\"C003\", \"Home\", \"150000\", 2),\n",
    "    (\"C004\", \"Education\", \"25000\", 0),\n",
    "    (\"C005\", \"Personal\", \"100000\", 1)\n",
    "]\n",
    "\n",
    "# Create DataFrame for loan_info\n",
    "loan_columns = [\"Customer_ID\", \"Loan Category\", \"Loan Amount\", \"Overdue\"]\n",
    "loan_info_df = spark.createDataFrame(loan_data, loan_columns)\n",
    "\n",
    "# Register both DataFrames as temp views (tables)\n",
    "customer_info_df.createOrReplaceTempView(\"customer_info\")\n",
    "loan_info_df.createOrReplaceTempView(\"loans\")\n",
    "\n",
    "# Inner Join: Get the customer details along with their loan information\n",
    "inner_join_query = \"\"\"\n",
    "SELECT \n",
    "    c.Customer_ID, \n",
    "    c.Age, \n",
    "    c.Gender, \n",
    "    c.Occupation, \n",
    "    c.Income, \n",
    "    l.`Loan Category`, \n",
    "    l.`Loan Amount`, \n",
    "    l.Overdue\n",
    "FROM customer_info c\n",
    "INNER JOIN loans l \n",
    "ON c.Customer_ID = l.Customer_ID\n",
    "\"\"\"\n",
    "\n",
    "inner_join_result = spark.sql(inner_join_query)\n",
    "inner_join_result.show()\n",
    "\n",
    "# Left Join: Get all customers and their loan information (if available)\n",
    "left_join_query = \"\"\"\n",
    "SELECT \n",
    "    c.Customer_ID, \n",
    "    c.Age, \n",
    "    c.Gender, \n",
    "    c.Occupation, \n",
    "    c.Income, \n",
    "    l.`Loan Category`, \n",
    "    l.`Loan Amount`, \n",
    "    l.Overdue\n",
    "FROM customer_info c\n",
    "LEFT JOIN loans l \n",
    "ON c.Customer_ID = l.Customer_ID\n",
    "\"\"\"\n",
    "\n",
    "left_join_result = spark.sql(left_join_query)\n",
    "left_join_result.show()\n",
    "\n",
    "\n"
   ]
  }
 ],
 "metadata": {
  "application/vnd.databricks.v1+notebook": {
   "dashboards": [],
   "environmentMetadata": null,
   "language": "python",
   "notebookMetadata": {
    "pythonIndentUnit": 4
   },
   "notebookName": "PySpark Coding Challenge",
   "widgets": {}
  }
 },
 "nbformat": 4,
 "nbformat_minor": 0
}
