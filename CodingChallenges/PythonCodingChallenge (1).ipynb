{
 "cells": [
  {
   "cell_type": "code",
   "execution_count": 2,
   "id": "677ef27e-a9eb-4ace-a673-dfc980443739",
   "metadata": {
    "tags": []
   },
   "outputs": [
    {
     "name": "stdout",
     "output_type": "stream",
     "text": [
      "   Year Industry_aggregation_NZSIOC Industry_code_NZSIOC Industry_name_NZSIOC  \\\n",
      "0  2023                     Level 1                99999       All industries   \n",
      "1  2023                     Level 1                99999       All industries   \n",
      "2  2023                     Level 1                99999       All industries   \n",
      "3  2023                     Level 1                99999       All industries   \n",
      "4  2023                     Level 1                99999       All industries   \n",
      "\n",
      "                Units Variable_code  \\\n",
      "0  Dollars (millions)           H01   \n",
      "1  Dollars (millions)           H04   \n",
      "2  Dollars (millions)           H05   \n",
      "3  Dollars (millions)           H07   \n",
      "4  Dollars (millions)           H08   \n",
      "\n",
      "                                     Variable_name      Variable_category  \\\n",
      "0                                     Total income  Financial performance   \n",
      "1  Sales, government funding, grants and subsidies  Financial performance   \n",
      "2                Interest, dividends and donations  Financial performance   \n",
      "3                             Non-operating income  Financial performance   \n",
      "4                                Total expenditure  Financial performance   \n",
      "\n",
      "    Value                             Industry_code_ANZSIC06  \n",
      "0  930995  ANZSIC06 divisions A-S (excluding classes K633...  \n",
      "1  821630  ANZSIC06 divisions A-S (excluding classes K633...  \n",
      "2   84354  ANZSIC06 divisions A-S (excluding classes K633...  \n",
      "3   25010  ANZSIC06 divisions A-S (excluding classes K633...  \n",
      "4  832964  ANZSIC06 divisions A-S (excluding classes K633...  \n"
     ]
    }
   ],
   "source": [
    "import pandas as pd\n",
    "\n",
    "# Load the CSV file\n",
    "df = pd.read_csv('CodingCSV.csv')\n",
    "\n",
    "# Display the first few rows to check the data\n",
    "print(df.head())\n"
   ]
  },
  {
   "cell_type": "code",
   "execution_count": 3,
   "id": "5896904c-d219-4219-9066-615f20c980c7",
   "metadata": {
    "tags": []
   },
   "outputs": [
    {
     "name": "stdout",
     "output_type": "stream",
     "text": [
      "   Year Industry_aggregation_NZSIOC Industry_code_NZSIOC Industry_name_NZSIOC  \\\n",
      "0  2023                     Level 1                99999       All industries   \n",
      "1  2023                     Level 1                99999       All industries   \n",
      "2  2023                     Level 1                99999       All industries   \n",
      "3  2023                     Level 1                99999       All industries   \n",
      "4  2023                     Level 1                99999       All industries   \n",
      "5  2023                     Level 1                99999       All industries   \n",
      "6  2023                     Level 1                99999       All industries   \n",
      "7  2023                     Level 1                99999       All industries   \n",
      "8  2023                     Level 1                99999       All industries   \n",
      "9  2023                     Level 1                99999       All industries   \n",
      "\n",
      "                Units Variable_code  \\\n",
      "0  Dollars (millions)           H01   \n",
      "1  Dollars (millions)           H04   \n",
      "2  Dollars (millions)           H05   \n",
      "3  Dollars (millions)           H07   \n",
      "4  Dollars (millions)           H08   \n",
      "5  Dollars (millions)           H09   \n",
      "6  Dollars (millions)           H10   \n",
      "7  Dollars (millions)           H11   \n",
      "8  Dollars (millions)           H12   \n",
      "9  Dollars (millions)           H13   \n",
      "\n",
      "                                     Variable_name      Variable_category  \\\n",
      "0                                     Total income  Financial performance   \n",
      "1  Sales, government funding, grants and subsidies  Financial performance   \n",
      "2                Interest, dividends and donations  Financial performance   \n",
      "3                             Non-operating income  Financial performance   \n",
      "4                                Total expenditure  Financial performance   \n",
      "5                           Interest and donations  Financial performance   \n",
      "6                                   Indirect taxes  Financial performance   \n",
      "7                                     Depreciation  Financial performance   \n",
      "8                          Salaries and wages paid  Financial performance   \n",
      "9                         Redundancy and severance  Financial performance   \n",
      "\n",
      "    Value                             Industry_code_ANZSIC06  \n",
      "0  930995  ANZSIC06 divisions A-S (excluding classes K633...  \n",
      "1  821630  ANZSIC06 divisions A-S (excluding classes K633...  \n",
      "2   84354  ANZSIC06 divisions A-S (excluding classes K633...  \n",
      "3   25010  ANZSIC06 divisions A-S (excluding classes K633...  \n",
      "4  832964  ANZSIC06 divisions A-S (excluding classes K633...  \n",
      "5   55267  ANZSIC06 divisions A-S (excluding classes K633...  \n",
      "6    7426  ANZSIC06 divisions A-S (excluding classes K633...  \n",
      "7   30814  ANZSIC06 divisions A-S (excluding classes K633...  \n",
      "8  147663  ANZSIC06 divisions A-S (excluding classes K633...  \n",
      "9     269  ANZSIC06 divisions A-S (excluding classes K633...  \n"
     ]
    }
   ],
   "source": [
    "# Print the first 10 rows\n",
    "print(df.head(10))\n"
   ]
  },
  {
   "cell_type": "code",
   "execution_count": 4,
   "id": "30408855-0624-4954-9b85-6114915f5322",
   "metadata": {
    "tags": []
   },
   "outputs": [
    {
     "name": "stdout",
     "output_type": "stream",
     "text": [
      "Index(['Year', 'Industry_aggregation_NZSIOC', 'Industry_code_NZSIOC',\n",
      "       'Industry_name_NZSIOC', 'Units', 'Variable_code', 'Variable_name',\n",
      "       'Variable_category', 'Value', 'Industry_code_ANZSIC06'],\n",
      "      dtype='object')\n"
     ]
    }
   ],
   "source": [
    "# Print the column names\n",
    "print(df.columns)\n"
   ]
  },
  {
   "cell_type": "code",
   "execution_count": 5,
   "id": "740419aa-d3ee-4cb6-bbd6-186e399d0bfb",
   "metadata": {
    "tags": []
   },
   "outputs": [
    {
     "name": "stdout",
     "output_type": "stream",
     "text": [
      "<class 'pandas.core.frame.DataFrame'>\n",
      "RangeIndex: 50985 entries, 0 to 50984\n",
      "Data columns (total 10 columns):\n",
      " #   Column                       Non-Null Count  Dtype \n",
      "---  ------                       --------------  ----- \n",
      " 0   Year                         50985 non-null  int64 \n",
      " 1   Industry_aggregation_NZSIOC  50985 non-null  object\n",
      " 2   Industry_code_NZSIOC         50985 non-null  object\n",
      " 3   Industry_name_NZSIOC         50985 non-null  object\n",
      " 4   Units                        50985 non-null  object\n",
      " 5   Variable_code                50985 non-null  object\n",
      " 6   Variable_name                50985 non-null  object\n",
      " 7   Variable_category            50985 non-null  object\n",
      " 8   Value                        50985 non-null  object\n",
      " 9   Industry_code_ANZSIC06       50985 non-null  object\n",
      "dtypes: int64(1), object(9)\n",
      "memory usage: 3.9+ MB\n",
      "None\n"
     ]
    }
   ],
   "source": [
    "# Summary of the DataFrame\n",
    "print(df.info())\n"
   ]
  },
  {
   "cell_type": "code",
   "execution_count": 6,
   "id": "94aaaa23-b490-46fc-b939-eb35044deb4a",
   "metadata": {
    "tags": []
   },
   "outputs": [
    {
     "name": "stdout",
     "output_type": "stream",
     "text": [
      "               Year\n",
      "count  50985.000000\n",
      "mean    2018.000000\n",
      "std        3.162309\n",
      "min     2013.000000\n",
      "25%     2015.000000\n",
      "50%     2018.000000\n",
      "75%     2021.000000\n",
      "max     2023.000000\n"
     ]
    }
   ],
   "source": [
    "# Descriptive statistics for numeric columns\n",
    "print(df.describe())\n"
   ]
  },
  {
   "cell_type": "code",
   "execution_count": 7,
   "id": "208575cf-cecf-431e-9dd8-66cd964a5a01",
   "metadata": {
    "tags": []
   },
   "outputs": [
    {
     "name": "stdout",
     "output_type": "stream",
     "text": [
      "Year                           0\n",
      "Industry_aggregation_NZSIOC    0\n",
      "Industry_code_NZSIOC           0\n",
      "Industry_name_NZSIOC           0\n",
      "Units                          0\n",
      "Variable_code                  0\n",
      "Variable_name                  0\n",
      "Variable_category              0\n",
      "Value                          0\n",
      "Industry_code_ANZSIC06         0\n",
      "dtype: int64\n"
     ]
    }
   ],
   "source": [
    "# Check for missing data\n",
    "print(df.isnull().sum())\n",
    "\n",
    "# Example: Fill missing values with a specific value (e.g., 0)\n",
    "df.fillna(0, inplace=True)\n",
    "\n",
    "# Alternatively, you can drop rows with missing values\n",
    "df.dropna(inplace=True)\n"
   ]
  },
  {
   "cell_type": "code",
   "execution_count": 8,
   "id": "d0a6cef7-7b58-4b73-9d76-edcd0b81f65b",
   "metadata": {
    "tags": []
   },
   "outputs": [
    {
     "name": "stdout",
     "output_type": "stream",
     "text": [
      "       Year Industry_aggregation_NZSIOC Industry_code_NZSIOC  \\\n",
      "40287  2015                     Level 4                KK112   \n",
      "40219  2015                     Level 3                 KK11   \n",
      "22078  2019                     Level 4                LL122   \n",
      "31348  2017                     Level 4                LL122   \n",
      "31347  2017                     Level 4                LL122   \n",
      "\n",
      "                     Industry_name_NZSIOC               Units Variable_code  \\\n",
      "40287           Financial Asset Investing  Dollars (millions)           H26   \n",
      "40219                             Finance  Dollars (millions)           H26   \n",
      "22078  Non-Residential Property Operation  Dollars (millions)           H28   \n",
      "31348  Non-Residential Property Operation  Dollars (millions)           H28   \n",
      "31347  Non-Residential Property Operation  Dollars (millions)           H27   \n",
      "\n",
      "                   Variable_name   Variable_category Value  \\\n",
      "40287      Fixed tangible assets  Financial position     S   \n",
      "40219      Fixed tangible assets  Financial position     S   \n",
      "22078  Disposals of fixed assets  Financial position     S   \n",
      "31348  Disposals of fixed assets  Financial position     S   \n",
      "31347  Additions to fixed assets  Financial position     S   \n",
      "\n",
      "                           Industry_code_ANZSIC06  \n",
      "40287                         ANZSIC06 group K624  \n",
      "40219  ANZSIC06 groups K621, K622, K623, and K624  \n",
      "22078                      ANZSIC06 class L671200  \n",
      "31348                      ANZSIC06 class L671200  \n",
      "31347                      ANZSIC06 class L671200  \n"
     ]
    }
   ],
   "source": [
    "# Sort by the 'Value' column in descending order\n",
    "df_sorted = df.sort_values(by='Value', ascending=False)\n",
    "print(df_sorted.head())\n"
   ]
  },
  {
   "cell_type": "code",
   "execution_count": 9,
   "id": "8434915f-8469-492b-87d3-f99713d8f985",
   "metadata": {
    "tags": []
   },
   "outputs": [
    {
     "name": "stdout",
     "output_type": "stream",
     "text": [
      "Number of columns: 10\n"
     ]
    }
   ],
   "source": [
    "# Get the number of columns\n",
    "print(f\"Number of columns: {df.shape[1]}\")\n"
   ]
  },
  {
   "cell_type": "code",
   "execution_count": 10,
   "id": "d4a58de5-b0bf-48a8-b4ec-c2decfa5668a",
   "metadata": {
    "tags": []
   },
   "outputs": [
    {
     "name": "stdout",
     "output_type": "stream",
     "text": [
      "Int64Index([    0,     1,     2,     3,     4,     5,     6,     7,     8,\n",
      "                9,\n",
      "            ...\n",
      "            50975, 50976, 50977, 50978, 50979, 50980, 50981, 50982, 50983,\n",
      "            50984],\n",
      "           dtype='int64', length=50985)\n"
     ]
    }
   ],
   "source": [
    "# Check dataset indexing\n",
    "print(df.index)\n"
   ]
  },
  {
   "cell_type": "code",
   "execution_count": 11,
   "id": "4f2fae03-5b0a-4b17-8936-7aa8c29a7518",
   "metadata": {
    "tags": []
   },
   "outputs": [
    {
     "name": "stdout",
     "output_type": "stream",
     "text": [
      "Number of observations: 50985\n"
     ]
    }
   ],
   "source": [
    "# Get the number of rows\n",
    "print(f\"Number of observations: {df.shape[0]}\")\n"
   ]
  },
  {
   "cell_type": "code",
   "execution_count": 15,
   "id": "2e150046-fb4c-4761-964f-c428b799540d",
   "metadata": {},
   "outputs": [
    {
     "name": "stdout",
     "output_type": "stream",
     "text": [
      "      Value Value_Category\n",
      "0  930995.0           High\n",
      "1  821630.0           High\n",
      "2   84354.0            Low\n",
      "3   25010.0            Low\n",
      "4  832964.0           High\n"
     ]
    }
   ],
   "source": [
    "# Convert the 'Value' column to numeric, setting errors='coerce' to handle non-numeric values\n",
    "df['Value'] = pd.to_numeric(df['Value'], errors='coerce')\n",
    "\n",
    "# Now apply the lambda function to create a new column 'Value_Category'\n",
    "df['Value_Category'] = df['Value'].apply(lambda x: 'High' if x > 500000 else 'Low')\n",
    "\n",
    "# Print first few rows to check the new column\n",
    "print(df[['Value', 'Value_Category']].head())\n"
   ]
  },
  {
   "cell_type": "code",
   "execution_count": 16,
   "id": "dac67d37-237d-4da0-9340-2f93af46ed15",
   "metadata": {
    "tags": []
   },
   "outputs": [
    {
     "name": "stdout",
     "output_type": "stream",
     "text": [
      "Number of columns: 11\n"
     ]
    }
   ],
   "source": [
    "# Find the number of columns\n",
    "num_columns = df.shape[1]\n",
    "print(\"Number of columns:\", num_columns)"
   ]
  },
  {
   "cell_type": "code",
   "execution_count": 17,
   "id": "a059a995-b07d-4766-abd9-a2f31ece29cf",
   "metadata": {
    "tags": []
   },
   "outputs": [
    {
     "data": {
      "image/png": "[encoded data removed]",
      "text/plain": [
       "<Figure size 800x600 with 1 Axes>"
      ]
     },
     "metadata": {},
     "output_type": "display_data"
    }
   ],
   "source": [
    "import pandas as pd\n",
    "import matplotlib.pyplot as plt\n",
    "\n",
    "# Load the CSV file\n",
    "file_path = 'CodingCSV.csv'\n",
    "df = pd.read_csv(file_path)\n",
    "\n",
    "# Convert the 'Value' column to numeric, replacing non-numeric entries with NaN\n",
    "df['Value'] = pd.to_numeric(df['Value'], errors='coerce')\n",
    "\n",
    "# Drop rows with NaN in 'Value' or other relevant columns\n",
    "df_clean = df.dropna(subset=['Value'])\n",
    "\n",
    "# Sample a subset of the data to reduce size for plotting\n",
    "sampled_df = df_clean.sample(n=1000, random_state=42)\n",
    "\n",
    "# Scatter plot: Year vs. Value\n",
    "plt.figure(figsize=(8, 6))\n",
    "plt.scatter(sampled_df['Year'], sampled_df['Value'], alpha=0.6, s=10)\n",
    "plt.title('Scatter Plot: Year vs Value', fontsize=14)\n",
    "plt.xlabel('Year', fontsize=12)\n",
    "plt.ylabel('Value (Dollars)', fontsize=12)\n",
    "plt.grid(True, alpha=0.3)\n",
    "plt.tight_layout()\n",
    "plt.show()\n"
   ]
  },
  {
   "cell_type": "code",
   "execution_count": null,
   "id": "e5aeb093-e83e-47dc-9759-d2077f35c9fe",
   "metadata": {},
   "outputs": [],
   "source": []
  }
 ],
 "metadata": {
  "kernelspec": {
   "display_name": "Python 3 (ipykernel)",
   "language": "python",
   "name": "python3"
  },
  "language_info": {
   "codemirror_mode": {
    "name": "ipython",
    "version": 3
   },
   "file_extension": ".py",
   "mimetype": "text/x-python",
   "name": "python",
   "nbconvert_exporter": "python",
   "pygments_lexer": "ipython3",
   "version": "3.7.0"
  }
 },
 "nbformat": 4,
 "nbformat_minor": 5
}
